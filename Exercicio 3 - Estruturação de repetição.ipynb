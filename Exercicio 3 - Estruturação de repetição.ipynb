{
 "cells": [
  {
   "cell_type": "markdown",
   "metadata": {},
   "source": [
    "Exercício 01 – Faça um programa que peça uma nota, entre zero e dez. Mostre uma\n",
    "mensagem caso o valor seja inválido e continue pedindo até que o usuário informe um\n",
    "valor válido."
   ]
  },
  {
   "cell_type": "code",
   "execution_count": null,
   "metadata": {},
   "outputs": [],
   "source": [
    "while True: #------------------------que continuará repetindo até que uma nota válida seja fornecida.\n",
    "    nota = input(\"Digite uma nota entre zero e dez: \")\n",
    "\n",
    "    # Verifica se a nota é um número\n",
    "    if nota.isdigit():\n",
    "        nota = float(nota)\n",
    "        \n",
    "        # Verifica se a nota está dentro do intervalo válido\n",
    "        if nota >= 0 and nota <= 10:\n",
    "            break #------------------Se a nota for válida, o loop é interrompido usando a instrução \n",
    "        else:\n",
    "            print(\"Valor inválido! Digite novamente.\")\n",
    "    else:\n",
    "        print(\"Valor inválido! Digite novamente.\")\n",
    " \n",
    "print(\"Valor válido informado:\", nota)\n"
   ]
  },
  {
   "cell_type": "markdown",
   "metadata": {},
   "source": [
    "Exercício 02 - Faça um programa que leia um nome de usuário e a sua senha e não\n",
    "aceite a senha igual ao nome do usuário, mostrando uma mensagem de erro e voltando\n",
    "a pedir as informações."
   ]
  },
  {
   "cell_type": "code",
   "execution_count": null,
   "metadata": {},
   "outputs": [],
   "source": [
    "while True:\n",
    "    nome_usuario = input('Digite o nome de usúario: ')\n",
    "    senha != input('Digite a senha: ')\n",
    "\n",
    "    if senha != nome_usuario:\n",
    "        print('Usúario cadastrado com sucesso!')\n",
    "        break\n",
    "    else:\n",
    "        print('Erro: A senha não pode ser igual ao nome de usúario. Digite novamente. ')\n",
    "        "
   ]
  },
  {
   "cell_type": "markdown",
   "metadata": {},
   "source": [
    "Exercício 03 - Faça um programa que leia e valide as seguintes informações:\n",
    "a) Nome: maior que 3 caracteres;\n",
    "b) Idade: entre 0 e 150;\n",
    "c) Salário: maior que zero;\n",
    "d) Sexo: 'f' ou 'm';\n",
    "e) Estado Civil: 's', 'c', 'v', 'd'"
   ]
  },
  {
   "cell_type": "code",
   "execution_count": null,
   "metadata": {},
   "outputs": [],
   "source": [
    "# Validação do nome maior que 3 caracteres\n",
    "while True:#------------------------que continuará repetindo até que uma nota válida seja fornecida.\n",
    "    nome = input('Digite o nome maior que 3 caracteres: ')\n",
    "    if len(nome) > 3:\n",
    "        break\n",
    "    else:\n",
    "        print('Erro: O nome deve conter mais de 3 caracteres. Digite novamente')\n",
    "\n",
    "# Validação da idade (entre 0 e 150):\n",
    "while True:\n",
    "    idade_str = input('Digite a idade entre 0 e 150: ')\n",
    "    if idade_str.isdigit():\n",
    "        idade = int(idade_str)\n",
    "        if 0 <= idade <= 150:\n",
    "            break\n",
    "    print('Erro: A idade deve estar entre 0 e 150. Digite novamente.')\n",
    "\n",
    "# Validação do salario maior que zero:\n",
    "while True:\n",
    "    salario_str = input('Digite o salário maior que zero')\n",
    "    if salario_str.replace('_', '', 1).isdigit():\n",
    "        salario = float(salario_str)\n",
    "        if salario >0:\n",
    "            break\n",
    "    print('Erro: O salário deve ser maior que zero. Digite novamente.')\n",
    "\n",
    "# Validação do sexo 'f' ou 'm'\n",
    "while True:\n",
    "    sexo = input(\"Digite o sexo ('f' ou 'm'): \")\n",
    "    if sexo.lower() == 'f' or sexo.lower() == 'm': # Retorna uma cópia da string convertida em letras minúsculas.\n",
    "        break\n",
    "    print(\"Erro: O sexo deve ser 'f' ou 'm'. Digite novamente.\")\n",
    "\n",
    "# Validação do estado civil 's', 'c, 'v' ou 'd'.\n",
    "while True:\n",
    "    estado_civil = input(\"Digite o estado civil 's', 'c', 'v' ou 'd':\")\n",
    "    if estado_civil.lower() in ['s', 'c', 'v', 'd']:\n",
    "        break\n",
    "    print(\"Erro: O estado civil deve ser 's', 'c', 'v' ou 'd'. Digite novamente.\")\n",
    "\n",
    "print('Informações validas com sucesso!')\n",
    "\n",
    "\n"
   ]
  },
  {
   "cell_type": "markdown",
   "metadata": {},
   "source": [
    "Exercício 04 - Supondo que a população de um país A seja da ordem de 80000\n",
    "habitantes com uma taxa anual de crescimento de 3% e que a população de B seja\n",
    "200000 habitantes com uma taxa de crescimento de 1.5%. Faça um programa que\n",
    "calcule e escreva o número de anos necessários para que a população do país A\n",
    "ultrapasse ou iguale a população do país B, mantidas as taxas de crescimento."
   ]
  },
  {
   "cell_type": "code",
   "execution_count": null,
   "metadata": {},
   "outputs": [],
   "source": [
    "# População inicial dos paises\n",
    "populacao_A = 80000\n",
    "populacao_B = 200000\n",
    "\n",
    "# Taxas de crescimento em decimal 3% = 0.03 e 1.5% = 0.015\n",
    "taxa_crescimento_A = 0.03\n",
    "taxa_crescimento_B = 0.015\n",
    "\n",
    "# Contador de anos\n",
    "anos = 0\n",
    "\n",
    "while populacao_A < populacao_B:\n",
    "    # Calcula o crescimento populacional em cada pais\n",
    "    crescimento_A = populacao_A * taxa_crescimento_A\n",
    "    crescimento_B = populacao_B * taxa_crescimento_B\n",
    "\n",
    "    # Atualiza a população dos paises apos o crescimento\n",
    "    populacao_A += crescimento_A\n",
    "    populacao_B += crescimento_B\n",
    "\n",
    "    # Incrementa o contador de anos\n",
    "    anos += 1\n",
    "\n",
    "# Exibe o resultado\n",
    "print(f'Serão necessário {anos} anos para a pupulação do pais A ultrapassar ou igualar a população da B.')\n",
    "print(f'População do pais A: {populacao_A: .0f}')\n",
    "print(f'População do pais B. {populacao_B: .0f}')    "
   ]
  },
  {
   "cell_type": "markdown",
   "metadata": {},
   "source": [
    "Exercício 05 - Altere o programa anterior permitindo ao usuário informar as populações\n",
    "e as taxas de crescimento iniciais. Valide a entrada e permita repetir a operação."
   ]
  },
  {
   "cell_type": "code",
   "execution_count": null,
   "metadata": {},
   "outputs": [],
   "source": [
    "while True:\n",
    "    try:\n",
    "        populacao_A = int(input('Informe a população da cidade A: '))\n",
    "        taxa_crescimento_A = float(input('Informe a taxa de crescimento da cidade A (%): '))\n",
    "        populacao_B = int(input('Informe a população da cidade B: '))\n",
    "        taxa_crescimento_B = float(input('Informe a taxa de crescimento da cidade B (%): ')) \n",
    "\n",
    "        anos = 0\n",
    "\n",
    "        while populacao_A <= populacao_B:\n",
    "            populacao_A *= (1 + taxa_crescimento_A / 100)\n",
    "            populacao_B *= (1 + taxa_crescimento_B / 100)\n",
    "            anos += 1\n",
    "        print(f'Levana {anos} anos para a cidade A ultrapassar a cidde B em população.')\n",
    "\n",
    "        repetir = input('Deseja repetir a operação? (S/N): ')\n",
    "\n",
    "        if repetir.lower() != 's':\n",
    "            break\n",
    "\n",
    "    except ValueError:\n",
    "        print('Entrada invalida. Certifique-se de inserir valores numericos válidos.')  \n",
    "          \n",
    "\n"
   ]
  },
  {
   "cell_type": "markdown",
   "metadata": {},
   "source": [
    "Exercício 06 - Faça um programa que imprima na tela os números de 1 a 20, um abaixo do outro. Depois modifique o programa para que ele mostre os números um ao lado do outro."
   ]
  },
  {
   "cell_type": "code",
   "execution_count": 6,
   "metadata": {},
   "outputs": [
    {
     "name": "stdout",
     "output_type": "stream",
     "text": [
      "Digite numeros de 1 a 20 um abaixo do outro: \n",
      "1\n",
      "2\n",
      "3\n",
      "4\n",
      "5\n",
      "6\n",
      "7\n",
      "8\n",
      "9\n",
      "10\n",
      "11\n",
      "12\n",
      "13\n",
      "14\n",
      "15\n",
      "16\n",
      "17\n",
      "18\n",
      "19\n",
      "20\n",
      "\n",
      "Números de 1 a 20 um ao lado do outro:\n",
      "1 2 3 4 5 6 7 8 9 10 11 12 13 14 15 16 17 18 19 20 "
     ]
    }
   ],
   "source": [
    "# Imprimir os números de 1 a 20 um abaixo do outro\n",
    "print('Digite numeros de 1 a 20 um abaixo do outro: ')\n",
    "for i in range (1, 21):    #-----retorna uma série numérica no intervalo enviado como argumento\n",
    "    print(i)\n",
    "\n",
    "# Imprimir os numeros de 1 a 20 um ao lado do outro\n",
    "print('\\nNúmeros de 1 a 20 um ao lado do outro:')\n",
    "for i in range(1, 21):\n",
    "    print(i, end=' ')      #-----end= é responsável por alterar esse comportamento, possibilitando ao desenvolvedor trocar qual caracter será adicionado ao final do dado impresso no terminal\n"
   ]
  },
  {
   "cell_type": "markdown",
   "metadata": {},
   "source": [
    "Exercício 07 - Faça um programa que leia 5 números e informe o maior número."
   ]
  },
  {
   "cell_type": "code",
   "execution_count": 8,
   "metadata": {},
   "outputs": [
    {
     "name": "stdout",
     "output_type": "stream",
     "text": [
      "O maior número é: 9.0\n"
     ]
    }
   ],
   "source": [
    "# Inicializar a variavel para armazenar o maior numero\n",
    "\n",
    "maior_numero = None     #--None são utilizados para descrever variáveis que foram criadas, mas que não possuem nenhum valor associado à elas\n",
    "\n",
    "# Loop para ler os 5 números\n",
    "\n",
    "for i in range(5):\n",
    "    numero = float(input(f'Digite o {i+1}º numero: '))\n",
    "\n",
    "    # Verificar se é o primeiro número lido ou se é maior que o atual maior número\n",
    "\n",
    "    if maior_numero is None or numero > maior_numero:\n",
    "        maior_numero = numero\n",
    "\n",
    "# imprimir o maior número\n",
    "print(f'O maior número é: {maior_numero}')        "
   ]
  },
  {
   "cell_type": "markdown",
   "metadata": {},
   "source": [
    "Exercício 08 - Faça um programa que leia 5 números e informe a soma e a média dos números."
   ]
  },
  {
   "cell_type": "code",
   "execution_count": 9,
   "metadata": {},
   "outputs": [
    {
     "name": "stdout",
     "output_type": "stream",
     "text": [
      "A soma dos números é: 139.0\n",
      "A média dos números é: 27.8\n"
     ]
    }
   ],
   "source": [
    "# Inicializar variáveis para armazenar a soma e a média\n",
    "\n",
    "soma = 0\n",
    "media = 0\n",
    "\n",
    "# Loop para ler os 5 números\n",
    "\n",
    "for i in range(5):\n",
    "    numero = float(input(f'Digite o {i+1}º número: '))\n",
    "    soma += numero\n",
    "\n",
    "# Calcular a média\n",
    "\n",
    "media = soma / 5 \n",
    "\n",
    "# Imprimir a soma e a média\n",
    "\n",
    "print(f'A soma dos números é: {soma}')\n",
    "print(f'A média dos números é: {media}')\n",
    "\n"
   ]
  },
  {
   "cell_type": "markdown",
   "metadata": {},
   "source": [
    "Exercício 09 - Faça um programa que imprima na tela apenas os números ímpares entre 1 e 50."
   ]
  },
  {
   "cell_type": "code",
   "execution_count": 10,
   "metadata": {},
   "outputs": [
    {
     "name": "stdout",
     "output_type": "stream",
     "text": [
      "Números impares entre 1 e 50:\n",
      "1\n",
      "3\n",
      "5\n",
      "7\n",
      "9\n",
      "11\n",
      "13\n",
      "15\n",
      "17\n",
      "19\n",
      "21\n",
      "23\n",
      "25\n",
      "27\n",
      "29\n",
      "31\n",
      "33\n",
      "35\n",
      "37\n",
      "39\n",
      "41\n",
      "43\n",
      "45\n",
      "47\n",
      "49\n"
     ]
    }
   ],
   "source": [
    "# Neste código, usamos um loop for para iterar através dos números de 1 a 50. Utilizamos a condição numero % 2 != 0 para verificar se o número é ímpar\n",
    "print('Números impares entre 1 e 50:')\n",
    "for numero in range(1,51):\n",
    "    if numero % 2 != 0:\n",
    "        print(numero)"
   ]
  },
  {
   "cell_type": "markdown",
   "metadata": {},
   "source": [
    "Exercício 10 - Faça um programa que receba dois números inteiros e gere os números inteiros que estão no intervalo compreendido por eles."
   ]
  },
  {
   "cell_type": "code",
   "execution_count": 11,
   "metadata": {},
   "outputs": [
    {
     "name": "stdout",
     "output_type": "stream",
     "text": [
      "Números no intervalo entre 3 e 76:\n",
      "3\n",
      "4\n",
      "5\n",
      "6\n",
      "7\n",
      "8\n",
      "9\n",
      "10\n",
      "11\n",
      "12\n",
      "13\n",
      "14\n",
      "15\n",
      "16\n",
      "17\n",
      "18\n",
      "19\n",
      "20\n",
      "21\n",
      "22\n",
      "23\n",
      "24\n",
      "25\n",
      "26\n",
      "27\n",
      "28\n",
      "29\n",
      "30\n",
      "31\n",
      "32\n",
      "33\n",
      "34\n",
      "35\n",
      "36\n",
      "37\n",
      "38\n",
      "39\n",
      "40\n",
      "41\n",
      "42\n",
      "43\n",
      "44\n",
      "45\n",
      "46\n",
      "47\n",
      "48\n",
      "49\n",
      "50\n",
      "51\n",
      "52\n",
      "53\n",
      "54\n",
      "55\n",
      "56\n",
      "57\n",
      "58\n",
      "59\n",
      "60\n",
      "61\n",
      "62\n",
      "63\n",
      "64\n",
      "65\n",
      "66\n",
      "67\n",
      "68\n",
      "69\n",
      "70\n",
      "71\n",
      "72\n",
      "73\n",
      "74\n",
      "75\n",
      "76\n"
     ]
    }
   ],
   "source": [
    "# Receber os números interios\n",
    "\n",
    "inicio = int(input('Digite o primeiro número interiro: '))\n",
    "fim = int(input('Digite o segundo número inteiro: '))\n",
    "\n",
    "print(f'Números no intervalo entre {inicio} e {fim}:')\n",
    "for numero in range(inicio, fim + 1):\n",
    "    print(numero)"
   ]
  }
 ],
 "metadata": {
  "kernelspec": {
   "display_name": "Python 3",
   "language": "python",
   "name": "python3"
  },
  "language_info": {
   "codemirror_mode": {
    "name": "ipython",
    "version": 3
   },
   "file_extension": ".py",
   "mimetype": "text/x-python",
   "name": "python",
   "nbconvert_exporter": "python",
   "pygments_lexer": "ipython3",
   "version": "3.11.4"
  },
  "orig_nbformat": 4
 },
 "nbformat": 4,
 "nbformat_minor": 2
}
