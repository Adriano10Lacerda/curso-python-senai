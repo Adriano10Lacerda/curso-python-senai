{
 "cells": [
  {
   "cell_type": "markdown",
   "metadata": {},
   "source": [
    "Exercício 11. Faça uma função que recebe a média final de um aluno por parãmetro e\n",
    "retorna o seu conceito, conforme a tabela abaixo:"
   ]
  },
  {
   "cell_type": "code",
   "execution_count": 10,
   "metadata": {},
   "outputs": [],
   "source": [
    "def calcular_conceito(media):\n",
    "\n",
    "    if media   >= 0  and media <= 4.9:\n",
    "        return 'Conceito D'\n",
    "\n",
    "    elif media >= 5 and media <= 6.9:\n",
    "        return 'Conceito C'\n",
    "\n",
    "    elif media >= 7 and media <= 8.9:\n",
    "        return 'Conceito B'\n",
    "\n",
    "    elif media >= 9 and media <= 10:\n",
    "        return 'Conceito A'\n",
    "\n",
    "    else:\n",
    "        return 'Media invalida! Digite novamente'                \n"
   ]
  },
  {
   "cell_type": "code",
   "execution_count": 20,
   "metadata": {},
   "outputs": [
    {
     "name": "stdout",
     "output_type": "stream",
     "text": [
      " O aluno recebe o conceito: Conceito C\n"
     ]
    }
   ],
   "source": [
    "media_aluno = float(input('Digite a media final do aluno: '))\n",
    "conceito = calcular_conceito (media_aluno)\n",
    "\n",
    "print (f' O aluno recebe o conceito: {conceito}')"
   ]
  },
  {
   "cell_type": "markdown",
   "metadata": {},
   "source": [
    "Exercício 12. Faça uma função que recebe, por parâmetro, a altura (alt) e o sexo de uma\n",
    "pessoa e retorna o seu peso ideal. Para homens, calcular o peso ideal usando a fórmula\n",
    "peso ideal = 72.7 x alt - 58 e, para mulheres, peso ideal = 62.1 x alt - 44.7."
   ]
  },
  {
   "cell_type": "code",
   "execution_count": 15,
   "metadata": {},
   "outputs": [],
   "source": [
    "def calcular_peso_ideal(altura, sexo):\n",
    "    if sexo.lower() == 'homem':\n",
    "       peso_ideal = 72.7 * altura - 58\n",
    "\n",
    "    elif sexo.lower() == 'mulher':\n",
    "        peso_ideal = 62.1 * altura - 44.7\n",
    "\n",
    "    else:\n",
    "        return 'Sexo invalido! Digite novamente'\n",
    "\n",
    "    return peso_ideal     "
   ]
  },
  {
   "cell_type": "code",
   "execution_count": 19,
   "metadata": {},
   "outputs": [
    {
     "name": "stdout",
     "output_type": "stream",
     "text": [
      "Sexo invalido! Digite novamente\n"
     ]
    }
   ],
   "source": [
    "altura_pessoa = float(input('Digite altura da pessoa: '))\n",
    "sexo_pessoa = input('Digite o sexo da pessoa Homem ou Mulher: ')\n",
    "peso_ideal = calcular_peso_ideal(altura_pessoa, sexo_pessoa)\n",
    "\n",
    "if type(peso_ideal) == str:\n",
    "    print(peso_ideal)\n",
    "\n",
    "else:   \n",
    "    print(f'O peso ideal para o peso e {peso_ideal:.2f} kg.') "
   ]
  }
 ],
 "metadata": {
  "kernelspec": {
   "display_name": "Python 3",
   "language": "python",
   "name": "python3"
  },
  "language_info": {
   "codemirror_mode": {
    "name": "ipython",
    "version": 3
   },
   "file_extension": ".py",
   "mimetype": "text/x-python",
   "name": "python",
   "nbconvert_exporter": "python",
   "pygments_lexer": "ipython3",
   "version": "3.11.0"
  },
  "orig_nbformat": 4
 },
 "nbformat": 4,
 "nbformat_minor": 2
}
