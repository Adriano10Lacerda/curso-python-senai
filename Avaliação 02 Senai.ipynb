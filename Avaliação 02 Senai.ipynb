{
 "cells": [
  {
   "cell_type": "markdown",
   "id": "652dc48a",
   "metadata": {},
   "source": [
    "### Questão 01 -  Escreva um programa que exiba os números de 1 a 10 em ordem crescente."
   ]
  },
  {
   "cell_type": "code",
   "execution_count": 2,
   "id": "91a45baa",
   "metadata": {},
   "outputs": [
    {
     "name": "stdout",
     "output_type": "stream",
     "text": [
      "1\n",
      "2\n",
      "3\n",
      "4\n",
      "5\n",
      "6\n",
      "7\n",
      "8\n",
      "9\n",
      "10\n"
     ]
    }
   ],
   "source": [
    "for numero in range(1, 11):\n",
    "    print(numero)"
   ]
  },
  {
   "cell_type": "markdown",
   "id": "94e17058",
   "metadata": {},
   "source": [
    "### Questão 02 -  Escreva um programa que calcule a média de uma lista de números. A lista deve conter pelo menos 5 números."
   ]
  },
  {
   "cell_type": "code",
   "execution_count": 6,
   "id": "0dacc750",
   "metadata": {},
   "outputs": [
    {
     "name": "stdout",
     "output_type": "stream",
     "text": [
      "A media dos números é:  30.0\n"
     ]
    }
   ],
   "source": [
    "def calcular_media(lista):\n",
    "    soma = sum(lista)\n",
    "    media = soma / len(lista)\n",
    "    return media\n",
    "\n",
    "# Exemplo de lista de números\n",
    "lista_numeros = [10, 20, 30, 40, 50]\n",
    "\n",
    "#Chamando a função para calcular a media da lista\n",
    "media_resultado = calcular_media(lista_numeros)\n",
    "print('A media dos números é: ',media_resultado)"
   ]
  },
  {
   "cell_type": "markdown",
   "id": "0d40dd14",
   "metadata": {},
   "source": [
    "### Questão 03 -  Escreva um programa que gere a sequência de Fibonacci até o décimo termo. A sequência de Fibonacci é formada pela soma dos dois termos anteriores, começando com 0 e 1. A sequência fica assim: 0, 1, 1, 2, 3, 5, 8, 13, 21, 34."
   ]
  },
  {
   "cell_type": "code",
   "execution_count": 7,
   "id": "8ed968a7",
   "metadata": {},
   "outputs": [
    {
     "name": "stdout",
     "output_type": "stream",
     "text": [
      "Sequência de Fibonacci até o décimo termo é: \n",
      "[0, 1, 1]\n"
     ]
    }
   ],
   "source": [
    "def fibonacci(n):\n",
    "    if n <= 0:\n",
    "        return []\n",
    "    sequence = [0, 1]\n",
    "    for i in range (2, n):\n",
    "        next_term = sequence [-1] + sequence [-2]\n",
    "        sequence.append(next_term)\n",
    "        \n",
    "        return sequence\n",
    "# Gerar a sequencia de fibonacci ate o decimo termo (n= 10)\n",
    "decimo_termo = 10\n",
    "fibonacci_sequence = fibonacci(decimo_termo)\n",
    "\n",
    "print('Sequência de Fibonacci até o décimo termo é: ')\n",
    "print(fibonacci_sequence)"
   ]
  },
  {
   "cell_type": "markdown",
   "id": "a31f73b1",
   "metadata": {},
   "source": [
    "### Questão 04 -  Escreva um programa que leia um número inteiro positivo n do usuário e exiba a soma de todos os números de 1 até n."
   ]
  },
  {
   "cell_type": "code",
   "execution_count": null,
   "id": "54aecdf3",
   "metadata": {},
   "outputs": [],
   "source": []
  },
  {
   "cell_type": "code",
   "execution_count": 2,
   "id": "76205c2a",
   "metadata": {},
   "outputs": [
    {
     "name": "stdout",
     "output_type": "stream",
     "text": [
      "Digite um número inteiro positivo: 10\n",
      "A soma de todos os números de 1 até 10 é: 55\n"
     ]
    }
   ],
   "source": [
    "def soma_ate_n(n):\n",
    "    soma = 0\n",
    "    for i in range(1, n + 1):\n",
    "        soma += i\n",
    "    return soma\n",
    "\n",
    "# Solicitar ao usuário um número inteiro positivo\n",
    "while True:\n",
    "    try:\n",
    "        numero_inteiro = int(input(\"Digite um número inteiro positivo: \"))\n",
    "        if numero_inteiro > 0:\n",
    "            break\n",
    "        else:\n",
    "            print(\"Digite um número inteiro positivo válido!\")\n",
    "    except ValueError:\n",
    "        print(\"Digite um número inteiro positivo válido!\")\n",
    "\n",
    "# Calcular a soma de todos os números de 1 até 'n'\n",
    "resultado_soma = soma_ate_n(numero_inteiro)\n",
    "\n",
    "print(\"A soma de todos os números de 1 até\", numero_inteiro, \"é:\", resultado_soma)"
   ]
  },
  {
   "cell_type": "markdown",
   "id": "4e1b72cd",
   "metadata": {},
   "source": [
    "### Questão 05 -  Escreva um programa que receba uma lista de números do usuário e exiba apenas os números pares presentes na lista e sua respectiva quantidade.\n"
   ]
  },
  {
   "cell_type": "code",
   "execution_count": 2,
   "id": "2d1a5b71",
   "metadata": {},
   "outputs": [
    {
     "name": "stdout",
     "output_type": "stream",
     "text": [
      "Digite uma lista de números separados por espaço: 5 4 9 4 7 3 5 7 \n",
      "Números pares encontrados:  [4, 4]\n",
      "Quantidade de números pares:  2\n"
     ]
    }
   ],
   "source": [
    "def numeros_pares(lista):\n",
    "    pares = [num for num in lista if num % 2 == 0]\n",
    "    return pares\n",
    "\n",
    "# Solicitar ao usuário a lista de números\n",
    "while True:\n",
    "    try:\n",
    "        entrada = input('Digite uma lista de números separados por espaço: ')\n",
    "        lista_numeros = [int(num) for num in entrada.split()]\n",
    "        break\n",
    "    except ValueError:\n",
    "            print('Entrada inválida. Digite uma lista de números validos! ')\n",
    "            \n",
    "# Filtrar apenas os numeros pares na lista\n",
    "numeros_pares_lista = numeros_pares(lista_numeros)\n",
    "\n",
    "# Exibir os números pares e sua quantidade\n",
    "\n",
    "print('Números pares encontrados: ', numeros_pares_lista)\n",
    "print('Quantidade de números pares: ', len(numeros_pares_lista))"
   ]
  },
  {
   "cell_type": "markdown",
   "id": "e3a2a42f",
   "metadata": {},
   "source": [
    "### Questão 06 -Escreva um programa que leia uma lista de números do usuário e determine a soma, média, o maior valor e o menor valor da lista."
   ]
  },
  {
   "cell_type": "code",
   "execution_count": null,
   "id": "5b90f309",
   "metadata": {},
   "outputs": [],
   "source": []
  },
  {
   "cell_type": "code",
   "execution_count": 6,
   "id": "965b091a",
   "metadata": {},
   "outputs": [
    {
     "name": "stdout",
     "output_type": "stream",
     "text": [
      "Digite uma lista de números separados por espaço: 2 5 6 8 9 10\n",
      "Soma da lista: 40.0\n",
      "Média da lista: 6.666666666666667\n",
      "Maior valor da lista: 10.0\n",
      "Menor valor da lista: 2.0\n"
     ]
    }
   ],
   "source": [
    "def calcular_estatisticas(lista):\n",
    "    soma = sum(lista)\n",
    "    media = soma / len(lista)\n",
    "    maior = max(lista)\n",
    "    menor = min(lista)\n",
    "    return soma, media, maior, menor\n",
    "\n",
    "# Solicitar ao usuário a lista de números\n",
    "while True:\n",
    "    try:\n",
    "        entrada = input(\"Digite uma lista de números separados por espaço: \")\n",
    "        lista_numeros = [float(num) for num in entrada.split()]\n",
    "        break\n",
    "    except ValueError:\n",
    "        print(\"Entrada inválida. Digite uma lista de números válida!\")\n",
    "\n",
    "# Calcular estatísticas da lista\n",
    "soma_resultado, media_resultado, maior_resultado, menor_resultado = calcular_estatisticas(lista_numeros)\n",
    "\n",
    "# Exibir os resultados\n",
    "print(\"Soma da lista:\", soma_resultado)\n",
    "print(\"Média da lista:\", media_resultado)\n",
    "print(\"Maior valor da lista:\", maior_resultado)\n",
    "print(\"Menor valor da lista:\", menor_resultado)"
   ]
  },
  {
   "cell_type": "markdown",
   "id": "6721b439",
   "metadata": {},
   "source": [
    "### Questão 07 -  Escreva um programa que leia um número inteiro positivo n do usuário e exiba a tabuada de multiplicação desse número, do 1 ao 10."
   ]
  },
  {
   "cell_type": "code",
   "execution_count": 1,
   "id": "c22c64b8",
   "metadata": {},
   "outputs": [
    {
     "name": "stdout",
     "output_type": "stream",
     "text": [
      "Digite um número inteiro positivo: 5\n",
      "Tabuada de multiplicação de  5 :\n",
      "5 x 1 = 5\n",
      "5 x 2 = 10\n",
      "5 x 3 = 15\n",
      "5 x 4 = 20\n",
      "5 x 5 = 25\n",
      "5 x 6 = 30\n",
      "5 x 7 = 35\n",
      "5 x 8 = 40\n",
      "5 x 9 = 45\n",
      "5 x 10 = 50\n"
     ]
    }
   ],
   "source": [
    "while True:\n",
    "    try:\n",
    "        numero_inteiro = int(input('Digite um número inteiro positivo: '))\n",
    "        if numero_inteiro > 0:\n",
    "            break\n",
    "        else:\n",
    "            print('Digite um numero inteiro positivo valido! ')\n",
    "    except ValueError:\n",
    "        print('Digite um número interio positivo valido! ')\n",
    "print('Tabuada de multiplicação de ', numero_inteiro, ':')\n",
    "\n",
    "for i in range(1, 11):\n",
    "    resultado = numero_inteiro * i\n",
    "    print(numero_inteiro, 'x', i, '=', resultado)"
   ]
  },
  {
   "cell_type": "markdown",
   "id": "6a1d2d1f",
   "metadata": {},
   "source": [
    "### Questão 08 -  Escreva um programa que leia uma lista de números do usuário e crie duas novas listas: uma contendo os números positivos e outra contendo os números negativos."
   ]
  },
  {
   "cell_type": "code",
   "execution_count": 3,
   "id": "b579c6c7",
   "metadata": {},
   "outputs": [
    {
     "name": "stdout",
     "output_type": "stream",
     "text": [
      "Digite uma lista de numeros separados por espaço: 5 4 8 6 2 9 1 7\n",
      "Números positivos:  [5.0, 4.0, 8.0, 6.0, 2.0, 9.0, 1.0, 7.0]\n",
      "Números negativos:  []\n"
     ]
    }
   ],
   "source": [
    "# Solicitar ao usuario a lista de números\n",
    "while True:\n",
    "    try:\n",
    "        entrada = input('Digite uma lista de numeros separados por espaço: ')\n",
    "        lista_numeros =[float(num) for num in entrada.split()]\n",
    "        break\n",
    "    except ValueError:\n",
    "        print('Entrada invalida. Digite uma lista de numeros validos! ')\n",
    "        \n",
    "# Criar lista paranúmeros positivos e negativos\n",
    "numeros_positivos = [num for num in lista_numeros if num > 0]\n",
    "numeros_negativos = [num for num in lista_numeros if num < 0]\n",
    "\n",
    "# Exibir as listas resultantes\n",
    "\n",
    "print('Números positivos: ', numeros_positivos)\n",
    "print('Números negativos: ', numeros_negativos)\n"
   ]
  },
  {
   "cell_type": "code",
   "execution_count": null,
   "id": "e0edbb7e",
   "metadata": {},
   "outputs": [],
   "source": []
  },
  {
   "cell_type": "code",
   "execution_count": null,
   "id": "9880d561",
   "metadata": {},
   "outputs": [],
   "source": []
  }
 ],
 "metadata": {
  "kernelspec": {
   "display_name": "Python 3 (ipykernel)",
   "language": "python",
   "name": "python3"
  },
  "language_info": {
   "codemirror_mode": {
    "name": "ipython",
    "version": 3
   },
   "file_extension": ".py",
   "mimetype": "text/x-python",
   "name": "python",
   "nbconvert_exporter": "python",
   "pygments_lexer": "ipython3",
   "version": "3.10.9"
  }
 },
 "nbformat": 4,
 "nbformat_minor": 5
}
