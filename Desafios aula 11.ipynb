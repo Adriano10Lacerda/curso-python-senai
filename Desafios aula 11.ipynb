{
 "cells": [
  {
   "cell_type": "markdown",
   "metadata": {},
   "source": [
    "Desafio 01 - Escreva uma função Python para somar todos os números em uma\n",
    "lista.\n",
    "• Lista de amostra: (8, 2, 3, 0, 7)\n",
    "• Saída esperada: 20"
   ]
  },
  {
   "cell_type": "code",
   "execution_count": 1,
   "metadata": {},
   "outputs": [
    {
     "name": "stdout",
     "output_type": "stream",
     "text": [
      "20\n"
     ]
    }
   ],
   "source": [
    "def somar_lista(numeros):\n",
    "    soma = 0\n",
    "    for numero in numeros:\n",
    "        soma += numero\n",
    "\n",
    "    return soma\n",
    "\n",
    "lista = [8, 2, 3, 0,7] \n",
    "resultado = somar_lista(lista)\n",
    "print(resultado)   \n"
   ]
  },
  {
   "cell_type": "markdown",
   "metadata": {},
   "source": [
    "Desafio 02 - Escreva uma função Python para multiplicar todos os números em uma\n",
    "lista.\n",
    "• Lista de amostra: (8, 2, 3, -1, 7)\n",
    "• Saída esperada: -336"
   ]
  },
  {
   "cell_type": "code",
   "execution_count": 6,
   "metadata": {},
   "outputs": [
    {
     "name": "stdout",
     "output_type": "stream",
     "text": [
      "-336\n"
     ]
    }
   ],
   "source": [
    "def multiplicador_lista(numeros):\n",
    "    resultado = 1\n",
    "    for numero in numeros:\n",
    "        resultado *= numero\n",
    "\n",
    "    return resultado \n",
    "\n",
    "lista = [8, 2, 3, -1, 7] \n",
    "calculo = multiplicador_lista(lista)\n",
    "print(calculo)  \n",
    "    "
   ]
  },
  {
   "cell_type": "markdown",
   "metadata": {},
   "source": [
    "Desafio 03 - Escreva uma função Python que aceite uma string e conte o número de\n",
    "letras maiúsculas e minúsculas.\n",
    "String de amostra : 'The quick Brow Fox'\n",
    "Saída esperada :\n",
    "• No de caracteres maiúsculos: 3\n",
    "• No de caracteres minúsculos: 12"
   ]
  },
  {
   "cell_type": "code",
   "execution_count": 8,
   "metadata": {},
   "outputs": [
    {
     "ename": "UnboundLocalError",
     "evalue": "cannot access local variable 'minusculas' where it is not associated with a value",
     "output_type": "error",
     "traceback": [
      "\u001b[1;31m---------------------------------------------------------------------------\u001b[0m",
      "\u001b[1;31mUnboundLocalError\u001b[0m                         Traceback (most recent call last)",
      "Cell \u001b[1;32mIn[8], line 13\u001b[0m\n\u001b[0;32m     10\u001b[0m     \u001b[39mreturn\u001b[39;00m maiuscula, minuscula\n\u001b[0;32m     12\u001b[0m string \u001b[39m=\u001b[39m \u001b[39m'\u001b[39m\u001b[39mThe quick Brow Fox\u001b[39m\u001b[39m'\u001b[39m\n\u001b[1;32m---> 13\u001b[0m maiuscula, minuscula \u001b[39m=\u001b[39m cont_maiuscula_minuscula(string)\n\u001b[0;32m     14\u001b[0m \u001b[39mprint\u001b[39m(\u001b[39m'\u001b[39m\u001b[39mNo de caracteres maiuscula: \u001b[39m\u001b[39m'\u001b[39m, maiuscula)\n\u001b[0;32m     15\u001b[0m \u001b[39mprint\u001b[39m(\u001b[39m'\u001b[39m\u001b[39mNo de caracteres minuscula: \u001b[39m\u001b[39m'\u001b[39m, minuscula )            \n",
      "Cell \u001b[1;32mIn[8], line 8\u001b[0m, in \u001b[0;36mcont_maiuscula_minuscula\u001b[1;34m(string)\u001b[0m\n\u001b[0;32m      6\u001b[0m         maiuscula \u001b[39m+\u001b[39m\u001b[39m=\u001b[39m \u001b[39m1\u001b[39m\n\u001b[0;32m      7\u001b[0m     \u001b[39melif\u001b[39;00m caractere\u001b[39m.\u001b[39mislower():\n\u001b[1;32m----> 8\u001b[0m         minusculas \u001b[39m+\u001b[39m\u001b[39m=\u001b[39m \u001b[39m1\u001b[39m\n\u001b[0;32m     10\u001b[0m \u001b[39mreturn\u001b[39;00m maiuscula, minuscula\n",
      "\u001b[1;31mUnboundLocalError\u001b[0m: cannot access local variable 'minusculas' where it is not associated with a value"
     ]
    }
   ],
   "source": [
    "def cont_maiuscula_minuscula(string):\n",
    "    maiuscula = 0\n",
    "    minuscula = 0\n",
    "    for caractere in string:\n",
    "        if caractere.isupper():\n",
    "            maiuscula += 1\n",
    "        elif caractere.islower():\n",
    "            minusculas += 1\n",
    "\n",
    "    return maiuscula, minuscula\n",
    "\n",
    "string = 'The quick Brow Fox'\n",
    "maiuscula, minuscula = cont_maiuscula_minuscula(string)\n",
    "print('No de caracteres maiuscula: ', maiuscula)\n",
    "print('No de caracteres minuscula: ', minuscula )            \n"
   ]
  }
 ],
 "metadata": {
  "kernelspec": {
   "display_name": "Python 3",
   "language": "python",
   "name": "python3"
  },
  "language_info": {
   "codemirror_mode": {
    "name": "ipython",
    "version": 3
   },
   "file_extension": ".py",
   "mimetype": "text/x-python",
   "name": "python",
   "nbconvert_exporter": "python",
   "pygments_lexer": "ipython3",
   "version": "3.11.0"
  },
  "orig_nbformat": 4
 },
 "nbformat": 4,
 "nbformat_minor": 2
}
