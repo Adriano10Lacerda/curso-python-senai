{
 "cells": [
  {
   "cell_type": "code",
   "execution_count": 13,
   "metadata": {},
   "outputs": [
    {
     "name": "stdout",
     "output_type": "stream",
     "text": [
      "NIF,NOME,,IDADE,,UF,(Origem),,/sn10259,,Jorge,Moreira,,45,SP,/sn74855,,Brun,a,Nogueira,,24,BA,/sn97849,,Luiza,Magalhães,,41,MA,/sn97412,Clarivaldo,Rêgo,,74,SP,/sn79872,,Jedai,da,Silva,,19,SP,/sn27893,,Edineia,Jureia,,35,PA,/sn76412,,Florisfonso,Melo,Rêgo,,52,AM,\n"
     ]
    }
   ],
   "source": [
    "import PyPDF2 as pdf\n",
    "import os\n",
    "import openpyxl\n",
    "\n",
    "#--------------Alimentar as variáveis\n",
    "\n",
    "caminho = 'C:\\\\Users\\\\FIC\\\\Documents\\\\Adriano-Python\\\\cap10 PyPDF2\\\\'\n",
    "arquivo = 'funcionarios.pdf'\n",
    "\n",
    "#------- abrir o documento e manipular\n",
    "pdf_file = open(caminho + arquivo, 'rb')\n",
    "\n",
    "\n",
    "#------- A bliblioteca esta lendo o PDF\n",
    "read_pdf = pdf.PdfReader(pdf_file)\n",
    "\n",
    "# ------ # Número de paginas existentes no arquivo PDF\n",
    "number_of_page = len(read_pdf.pages)\n",
    "\n",
    "# ------Leitura de uma pagina especifica\n",
    "page = read_pdf.pages[0]\n",
    "\n",
    "# ------Extrair o texto da pagina\n",
    "page_content = page.extract_text()\n",
    "\n",
    "#-------Tratamento de dados\n",
    "parsed = page_content.splitlines()\n",
    "\n",
    "parsed.remove(' ')\n",
    "\n",
    "texto = '/'.join(parsed)\n",
    "texto = texto.replace(' ',',')\n",
    "print(texto)\n"
   ]
  }
 ],
 "metadata": {
  "kernelspec": {
   "display_name": "Python 3",
   "language": "python",
   "name": "python3"
  },
  "language_info": {
   "codemirror_mode": {
    "name": "ipython",
    "version": 3
   },
   "file_extension": ".py",
   "mimetype": "text/x-python",
   "name": "python",
   "nbconvert_exporter": "python",
   "pygments_lexer": "ipython3",
   "version": "3.11.0"
  },
  "orig_nbformat": 4
 },
 "nbformat": 4,
 "nbformat_minor": 2
}
