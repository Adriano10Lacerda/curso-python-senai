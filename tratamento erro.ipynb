{
 "cells": [
  {
   "cell_type": "code",
   "execution_count": null,
   "metadata": {},
   "outputs": [],
   "source": [
    "try:\n",
    "    print(x)\n",
    "except:\n",
    "    print('An exception occurred')    "
   ]
  },
  {
   "cell_type": "markdown",
   "metadata": {},
   "source": [
    "Exercício 01 – Escreva um programa Python para lidar com uma exceção\n",
    "ZeroDivisionError ao dividir um número por zero.\n",
    "exception ZeroDivisionError:\n",
    "Gerado quando o segundo argumento de uma operação de divisão ou módulo é zero.\n",
    "O valor associado é uma string que indica o tipo dos operandos e a operação."
   ]
  },
  {
   "cell_type": "code",
   "execution_count": null,
   "metadata": {},
   "outputs": [],
   "source": [
    "def divide_numbers(x, y):\n",
    "   \n",
    "    try:\n",
    "        x = float(x)\n",
    "        y = float(y)\n",
    "  \n",
    "\n",
    "        result = x / y\n",
    "        return result\n",
    "    except ZeroDivisionError:\n",
    "        print('Não e permitido divisão por zero!')\n",
    "    except ValueError:\n",
    "        print('Favor, digite um número não nulo!')\n",
    "\n",
    "#-------------------------\n",
    "numerador = 100\n",
    "denominador = 'A'\n",
    "\n",
    "divide_numbers(numerador, denominador)"
   ]
  },
  {
   "cell_type": "markdown",
   "metadata": {},
   "source": [
    "### Exercício 02\n",
    "Escreva um programa Python que solicite ao usuário que insira um inteiro\n",
    "e gere uma exceção ValueError se a entrada não for um inteiro válido.\n",
    "exception ValueError:\n",
    "Gerado quando uma operação ou função recebe um argumento que tem o tipo certo,\n",
    "mas um valor inadequado, e a situação não é descrita por uma exceção mais precisa,\n",
    "como IndexError."
   ]
  },
  {
   "cell_type": "code",
   "execution_count": null,
   "metadata": {},
   "outputs": [],
   "source": [
    "# FUNÇÂO\n",
    "def get_integer_input(number):\n",
    "    try:\n",
    "        valor = int(number)\n",
    "\n",
    "        return valor\n",
    "    except ValueError:\n",
    "        print('Erro: Informação invalida! Digite um numero inteiro.')\n",
    "\n",
    "# USO (TESTE)\n",
    "\n",
    "n = input('Digite um número inteiro.')\n",
    "\n",
    "print('O valor digitado é: ', get_integer_input(n))"
   ]
  },
  {
   "cell_type": "markdown",
   "metadata": {},
   "source": [
    "### Exercício 15\n",
    "Faça um programa para a leitura de duas notas parciais de um aluno. O\n",
    "programa deve calcular a média alcançada por aluno e apresentar:\n",
    "• A mensagem \"Aprovado\", se a média alcançada for maior ou igual a sete;\n",
    "• A mensagem \"Reprovado\", se a média for menor do que sete;\n",
    "• A mensagem \"Aprovado com Distinção\", se a média for igual a dez."
   ]
  },
  {
   "cell_type": "code",
   "execution_count": null,
   "metadata": {},
   "outputs": [],
   "source": [
    "def calcular_media():\n",
    "    \n",
    "    try:\n",
    "        nota1 = int(input('Digite a primeira nota: '))\n",
    "        nota2 = int(input('Digite a segunda nota: '))\n",
    "        return (nota1 + nota2) /2\n",
    "    except ValueError:\n",
    "        print('Erro: Informação invalida! Digite um número inteiro.')\n",
    "\n",
    "\n",
    "def verificar_aprovação(media):\n",
    "    if media == 10:\n",
    "        return('Aprovado com Distinção.')\n",
    "    \n",
    "    elif media >= 7:\n",
    "        return('Aprovado')\n",
    "    \n",
    "    else:\n",
    "        return('Reprovado')\n",
    "    \n",
    "\n",
    "\n",
    "\n",
    "    \n",
    "calcular_media()\n",
    "\n",
    "\n",
    "\n",
    "\n",
    "\n",
    "\n",
    "\n"
   ]
  },
  {
   "cell_type": "markdown",
   "metadata": {},
   "source": [
    "### Finally\n",
    "O bloco finally, se especificado, será executado indepedente se o bloco try gerar um erro ou não."
   ]
  },
  {
   "cell_type": "code",
   "execution_count": null,
   "metadata": {},
   "outputs": [],
   "source": [
    "try:\n",
    "    print(x)\n",
    "except:\n",
    "    print('Alguma coisa deu errado!!')\n",
    "finally:\n",
    "    print('O bloco try except está finalizado!')        "
   ]
  },
  {
   "cell_type": "markdown",
   "metadata": {},
   "source": [
    "### Raise ( Levantar uma exceção)\n",
    "\n",
    "A palavra chave-raise é usada para gerar uma exceção de erro. Você pode definir que tipo de erro gerar e o texto a ser impresso para o úsuario."
   ]
  },
  {
   "cell_type": "code",
   "execution_count": null,
   "metadata": {},
   "outputs": [],
   "source": [
    "x = ' Hello baby!'\n",
    "\n",
    "if not type(x) is int:\n",
    "    raise TypeError('Este erro foi definido pelo programador')"
   ]
  },
  {
   "cell_type": "code",
   "execution_count": null,
   "metadata": {},
   "outputs": [],
   "source": [
    "def conceito_final (nota1, nota2):\n",
    "    try:\n",
    "        nota1 = float(nota1)\n",
    "        nota2 = float(nota2)\n",
    "        media = (nota1 + nota2) /2\n",
    "\n",
    "        if media >=7:\n",
    "            conceito = 'aprovado' \n",
    "        elif media < 7:\n",
    "            conceito = 'Reprovado'\n",
    "        elif media == 10:\n",
    "            conceito = 'Aprovado com distinção!'\n",
    "\n",
    "        return conceito\n",
    "\n",
    "    except:\n",
    "        print('ERRO: Valor invalido! Digite as notas novamente.')\n",
    "\n",
    "    finally:\n",
    "        print(\"The 'try except' is finished\")    \n",
    "\n",
    "# TESTE\n",
    "conceito_final(10, 'a')        \n",
    "            \n",
    "\n",
    "\n",
    "    "
   ]
  },
  {
   "cell_type": "markdown",
   "metadata": {},
   "source": [
    "### Exercício 21 \n",
    "As Organizações Tabajara resolveram dar um aumento de salário aos\n",
    "seus colaboradores e lhe contaram para desenvolver o programa que calculará os\n",
    "reajustes. Faça um programa que recebe o salário de um colaborador e o reajuste\n",
    "segundo o seguinte critério, baseado no salário atual:\n",
    "• salários até R$ 280,00 (incluindo) : aumento de 20%\n",
    "• salários entre R$ 280,00 e R$ 700,00 : aumento de 15%\n",
    "• salários entre R$ 700,00 e R$ 1500,00 : aumento de 10%\n",
    "• salários de R$ 1500,00 em diante : aumento de 5%"
   ]
  },
  {
   "cell_type": "code",
   "execution_count": null,
   "metadata": {},
   "outputs": [],
   "source": [
    "def calcular_reajuste(salario):\n",
    "    if salario <= 280:\n",
    "        reajuste = salario * 0.20\n",
    "    \n",
    "    elif salario <= 700:\n",
    "        reajuste = salario * 0.15\n",
    "\n",
    "    elif salario <= 1500\n",
    "        reajuste = salario * 0.10\n",
    "\n",
    "    else:\n",
    "        reajuste = salario * 0.05\n",
    "              "
   ]
  },
  {
   "cell_type": "markdown",
   "metadata": {},
   "source": [
    "### Exercício 03 \n",
    "Escreva um programa Python que abra um arquivo e manipule uma\n",
    "exceção FileNotFoundError se o arquivo não existir.\n",
    "exception FileNotFoundError:\n",
    "Gerado quando um arquivo ou diretório é solicitado, mas não existe. Corresponde ao\n",
    "erro ENOENT."
   ]
  },
  {
   "cell_type": "code",
   "execution_count": 46,
   "metadata": {},
   "outputs": [],
   "source": [
    "def open_file(fileName):\n",
    "    try:\n",
    "        file = (fileName, 'r')\n",
    "        contents = file.read()\n",
    "        print('File contents:')\n",
    "        print(contents)\n",
    "        file.close()\n",
    "    except FileNotFoundError:\n",
    "        print('ERRO: Arquivo não localizado!')  \n",
    "\n",
    "\n"
   ]
  },
  {
   "cell_type": "code",
   "execution_count": 49,
   "metadata": {},
   "outputs": [
    {
     "ename": "AttributeError",
     "evalue": "'tuple' object has no attribute 'read'",
     "output_type": "error",
     "traceback": [
      "\u001b[1;31m---------------------------------------------------------------------------\u001b[0m",
      "\u001b[1;31mAttributeError\u001b[0m                            Traceback (most recent call last)",
      "Cell \u001b[1;32mIn[49], line 4\u001b[0m\n\u001b[0;32m      1\u001b[0m \u001b[39m# USO DA FUNÇÃO\u001b[39;00m\n\u001b[0;32m      3\u001b[0m arquivo \u001b[39m=\u001b[39m \u001b[39minput\u001b[39m(\u001b[39m'\u001b[39m\u001b[39mInforme o caminho do arquivo: \u001b[39m\u001b[39m'\u001b[39m)\n\u001b[1;32m----> 4\u001b[0m open_file(arquivo)              \n",
      "Cell \u001b[1;32mIn[46], line 4\u001b[0m, in \u001b[0;36mopen_file\u001b[1;34m(fileName)\u001b[0m\n\u001b[0;32m      2\u001b[0m \u001b[39mtry\u001b[39;00m:\n\u001b[0;32m      3\u001b[0m     file \u001b[39m=\u001b[39m (fileName, \u001b[39m'\u001b[39m\u001b[39mr\u001b[39m\u001b[39m'\u001b[39m)\n\u001b[1;32m----> 4\u001b[0m     contents \u001b[39m=\u001b[39m file\u001b[39m.\u001b[39;49mread()\n\u001b[0;32m      5\u001b[0m     \u001b[39mprint\u001b[39m(\u001b[39m'\u001b[39m\u001b[39mFile contents:\u001b[39m\u001b[39m'\u001b[39m)\n\u001b[0;32m      6\u001b[0m     \u001b[39mprint\u001b[39m(contents)\n",
      "\u001b[1;31mAttributeError\u001b[0m: 'tuple' object has no attribute 'read'"
     ]
    }
   ],
   "source": [
    "# USO DA FUNÇÃO\n",
    "\n",
    "arquivo = input('Informe o caminho do arquivo: ')\n",
    "open_file(arquivo)              "
   ]
  }
 ],
 "metadata": {
  "kernelspec": {
   "display_name": "Python 3",
   "language": "python",
   "name": "python3"
  },
  "language_info": {
   "codemirror_mode": {
    "name": "ipython",
    "version": 3
   },
   "file_extension": ".py",
   "mimetype": "text/x-python",
   "name": "python",
   "nbconvert_exporter": "python",
   "pygments_lexer": "ipython3",
   "version": "3.11.0"
  },
  "orig_nbformat": 4
 },
 "nbformat": 4,
 "nbformat_minor": 2
}
