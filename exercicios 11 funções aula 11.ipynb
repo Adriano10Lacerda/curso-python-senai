{
 "cells": [
  {
   "cell_type": "markdown",
   "metadata": {},
   "source": [
    "Exercício 10. Faça uma função que recebe um valor inteiro e verifica se o valor é par ou\n",
    "ímpar. A função deve retornar um valor booleano."
   ]
  },
  {
   "cell_type": "code",
   "execution_count": 3,
   "metadata": {},
   "outputs": [],
   "source": [
    "# Criano a função\n",
    "def par_ou_impar(numero):\n",
    "\n",
    "    numero = int(numero)\n",
    "    if numero %2 == 0:\n",
    "        resultado = True\n",
    "    else:\n",
    "        resultado = False\n",
    "\n",
    "    return resultado\n",
    "\n",
    "# Criar uma função traduzir True (par) e False (Impar)\n",
    "\n",
    "def conversion (result):\n",
    "\n",
    "    if result:\n",
    "        resultado = 'Par'\n",
    "\n",
    "    else:\n",
    "        resultado = 'Impar'\n",
    "\n",
    "    return resultado            \n",
    "\n"
   ]
  },
  {
   "cell_type": "code",
   "execution_count": 4,
   "metadata": {},
   "outputs": [
    {
     "data": {
      "text/plain": [
       "'Par'"
      ]
     },
     "execution_count": 4,
     "metadata": {},
     "output_type": "execute_result"
    }
   ],
   "source": [
    "valor = input('Digite um número: ')\n",
    "\n",
    "conversion(par_ou_impar(valor))\n"
   ]
  }
 ],
 "metadata": {
  "kernelspec": {
   "display_name": "Python 3",
   "language": "python",
   "name": "python3"
  },
  "language_info": {
   "codemirror_mode": {
    "name": "ipython",
    "version": 3
   },
   "file_extension": ".py",
   "mimetype": "text/x-python",
   "name": "python",
   "nbconvert_exporter": "python",
   "pygments_lexer": "ipython3",
   "version": "3.11.0"
  },
  "orig_nbformat": 4
 },
 "nbformat": 4,
 "nbformat_minor": 2
}
