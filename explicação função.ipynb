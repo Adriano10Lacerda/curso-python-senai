{
 "cells": [
  {
   "cell_type": "markdown",
   "metadata": {},
   "source": [
    "### Aula 11 - Explicação sobre funções\n",
    "1. Escreva uma função Python para encontrar o maximo de três números"
   ]
  },
  {
   "cell_type": "code",
   "execution_count": null,
   "metadata": {},
   "outputs": [],
   "source": [
    "# Recebe dois valores e identitifica o maior entre eles\n",
    "def max_dois_valores(num1, num2):\n",
    "\n",
    "    if num1 > num2:\n",
    "        return num1\n",
    "    else:\n",
    "        return num2\n",
    "\n",
    "# Recebe três valor, primeiro, identificar o maior entre dois numeros\n",
    "# com auxilio da função anterior, após isso, gera um compativo entre o resultado\n",
    "# com o número 1, e determina o maior valor\n",
    "def max_tres_valores(num1, num2, num3):\n",
    "    return max_dois_valores(num1, max_dois_valores(num2, num3))    "
   ]
  },
  {
   "cell_type": "markdown",
   "metadata": {},
   "source": []
  }
 ],
 "metadata": {
  "kernelspec": {
   "display_name": "Python 3",
   "language": "python",
   "name": "python3"
  },
  "language_info": {
   "codemirror_mode": {
    "name": "ipython",
    "version": 3
   },
   "file_extension": ".py",
   "mimetype": "text/x-python",
   "name": "python",
   "nbconvert_exporter": "python",
   "pygments_lexer": "ipython3",
   "version": "3.11.0"
  },
  "orig_nbformat": 4
 },
 "nbformat": 4,
 "nbformat_minor": 2
}
