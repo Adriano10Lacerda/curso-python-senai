{
 "cells": [
  {
   "cell_type": "code",
   "execution_count": 2,
   "metadata": {},
   "outputs": [
    {
     "name": "stdout",
     "output_type": "stream",
     "text": [
      "1\n"
     ]
    }
   ],
   "source": [
    "# -------------Importação das bibliotecas\n",
    "import PyPDF2 as pdf\n",
    "import os\n",
    "import openpyxl\n",
    "\n",
    "#--------------Alimentar as variáveis\n",
    "\n",
    "caminho = 'C:\\\\Users\\FIC\\Documents\\\\Adriano-Python\\\\cap10 PyPDF2\\\\' \n",
    "arquivo = 'Gastos.pdf'\n",
    "\n",
    "#--------------Abrir o documento e manipulá-lo\n",
    "\n",
    "pdf_file = open(caminho + arquivo, 'rb')\n",
    "# A biblioteca esta lendo o documento em PDF\n",
    "read_pdf = pdf.PdfReader(pdf_file)\n",
    "\n",
    "# Número de paginas existentes no arquivo PDF\n",
    "\n",
    "number_of_pages =len(read_pdf.pages)\n",
    "print(number_of_pages)\n"
   ]
  }
 ],
 "metadata": {
  "kernelspec": {
   "display_name": "Python 3",
   "language": "python",
   "name": "python3"
  },
  "language_info": {
   "codemirror_mode": {
    "name": "ipython",
    "version": 3
   },
   "file_extension": ".py",
   "mimetype": "text/x-python",
   "name": "python",
   "nbconvert_exporter": "python",
   "pygments_lexer": "ipython3",
   "version": "3.11.0"
  },
  "orig_nbformat": 4
 },
 "nbformat": 4,
 "nbformat_minor": 2
}
