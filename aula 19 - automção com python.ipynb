{
 "cells": [
  {
   "cell_type": "markdown",
   "metadata": {},
   "source": [
    "### Exercício 07\n",
    "\n",
    "Capturar uma região específica da tela."
   ]
  },
  {
   "cell_type": "code",
   "execution_count": 13,
   "metadata": {},
   "outputs": [],
   "source": [
    "import pyautogui\n",
    "import time\n",
    "\n",
    "# Tirar uma fotografia da tela inteira\n",
    "printScreen = pyautogui.screenshot()\n",
    "printScreen.save('teste.png')\n"
   ]
  },
  {
   "cell_type": "code",
   "execution_count": 14,
   "metadata": {},
   "outputs": [],
   "source": [
    "x, y, largura, altura = 100, 100, 400, 400\n",
    "\n",
    "printScreen2 = pyautogui.screenshot(region=(x, y, largura, altura))\n",
    "printScreen2.save('print_2.png')"
   ]
  },
  {
   "cell_type": "markdown",
   "metadata": {},
   "source": [
    "### Exercício 09 \n",
    "\n",
    "Crie um código para abrir o Bloco de notas e digite a frase\n",
    "Hello, World!"
   ]
  },
  {
   "cell_type": "code",
   "execution_count": 19,
   "metadata": {},
   "outputs": [],
   "source": [
    "import pyautogui # Gerar a automação\n",
    "import time      # Gerenciar o tempo de execução\n",
    "import os        # Gerenciar os arquivos no sistema operacional\n",
    "\n",
    "#--------------------------------------------------------------\n",
    "\n",
    "# Abrir o bloco de notas\n",
    "\n",
    "pyautogui.press('win')\n",
    "time.sleep(0.5)\n",
    "\n",
    "pyautogui.write('Bloco de notas')\n",
    "pyautogui.press('enter')\n",
    "\n",
    "time.sleep(0.5)\n",
    "pyautogui.write('Hello Mundo!!')\n",
    "\n",
    "time.sleep(0.5)\n",
    "pyautogui.hotkey('ctrl','s')\n",
    "\n",
    "time.sleep(0.5)\n",
    "pyautogui.write('texte.txt')\n",
    "pyautogui.press('enter')\n",
    "\n",
    "\n",
    "\n",
    "\n"
   ]
  },
  {
   "cell_type": "markdown",
   "metadata": {},
   "source": [
    "### Exercicio Extra\n",
    "\n",
    "Gerar um codigo para localizar a posição de uma imagem em uma pagina web"
   ]
  },
  {
   "cell_type": "code",
   "execution_count": 41,
   "metadata": {},
   "outputs": [
    {
     "ename": "TypeError",
     "evalue": "cannot unpack non-iterable NoneType object",
     "output_type": "error",
     "traceback": [
      "\u001b[1;31m---------------------------------------------------------------------------\u001b[0m",
      "\u001b[1;31mTypeError\u001b[0m                                 Traceback (most recent call last)",
      "Cell \u001b[1;32mIn[41], line 13\u001b[0m\n\u001b[0;32m     10\u001b[0m \u001b[39m# Tempo de execução\u001b[39;00m\n\u001b[0;32m     11\u001b[0m time\u001b[39m.\u001b[39msleep(\u001b[39m2\u001b[39m)\n\u001b[1;32m---> 13\u001b[0m a, b \u001b[39m=\u001b[39m pyautogui\u001b[39m.\u001b[39mlocateCenterOnScreen(\u001b[39m'\u001b[39m\u001b[39mimg\u001b[39m\u001b[39m\\\\\u001b[39;00m\u001b[39mteste.png\u001b[39m\u001b[39m'\u001b[39m)\n\u001b[0;32m     14\u001b[0m time\u001b[39m.\u001b[39msleep(\u001b[39m8\u001b[39m)\n\u001b[0;32m     16\u001b[0m pyautogui\u001b[39m.\u001b[39mclick(x \u001b[39m=\u001b[39m a, y \u001b[39m=\u001b[39m b \u001b[39m+\u001b[39m \u001b[39m20\u001b[39m)\n",
      "\u001b[1;31mTypeError\u001b[0m: cannot unpack non-iterable NoneType object"
     ]
    }
   ],
   "source": [
    "import pyautogui    # Gerar a automação das tarefas\n",
    "import time         # Gerenciar o tempo de execução\n",
    "\n",
    "# Pressionar as teclas WIND + R\n",
    "\n",
    "pyautogui.hotkey('win','r')\n",
    "time.sleep(0.5)\n",
    "pyautogui.typewrite('https://docs.google.com/forms/d/e/1FAIpQLScJ9ZifYSCFdUa7SDj9zcTwIdDxg4ip_wmWg6mt-eAbGEKoYg/viewform\\n')\n",
    "\n",
    "# Tempo de execução\n",
    "time.sleep(2)\n",
    "\n",
    "a, b = pyautogui.locateCenterOnScreen('img\\\\teste.png')\n",
    "time.sleep(8)\n",
    "\n",
    "pyautogui.click(x = a, y = b + 20)\n",
    "time.sleep(5)\n",
    "\n",
    "pyautogui.write('Adriano')\n",
    "time.sleep(5)\n",
    "\n",
    "pyautogui.press('tab')\n",
    "pyautogui.write('Lacerda')\n",
    "time.sleep(5)\n",
    "\n",
    "pyautogui.press('tab')\n",
    "pyautogui.write('adrianofelixlacerda@gmail.com')\n"
   ]
  }
 ],
 "metadata": {
  "kernelspec": {
   "display_name": "Python 3",
   "language": "python",
   "name": "python3"
  },
  "language_info": {
   "codemirror_mode": {
    "name": "ipython",
    "version": 3
   },
   "file_extension": ".py",
   "mimetype": "text/x-python",
   "name": "python",
   "nbconvert_exporter": "python",
   "pygments_lexer": "ipython3",
   "version": "3.11.0"
  },
  "orig_nbformat": 4
 },
 "nbformat": 4,
 "nbformat_minor": 2
}
