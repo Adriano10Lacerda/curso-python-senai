{
 "cells": [
  {
   "cell_type": "markdown",
   "metadata": {},
   "source": [
    "#### Desenvolva um script para abrir arquivos em txt e converta em Excel, aplicando regras de formatação, atribuindo bordas formatação do cabeçalho.\n",
    "\n",
    "Para desenvolver este desafio, você deve:\n",
    " - Utilizar as bibliotecas apropriadas;\n",
    " - Criar uma função para abrir arquivos;\n",
    " - Criar regras para tratamentos de erros;\n",
    " - Aplicar regras para tratamento dos dados;\n",
    " - Salvar o documento em um diretório correto."
   ]
  },
  {
   "cell_type": "code",
   "execution_count": 46,
   "metadata": {},
   "outputs": [],
   "source": [
    "import os\n",
    "import openpyxl as opxl\n",
    "import xlsxwriter as xlsx\n",
    "#--------------------------------------------------------\n",
    "# CRIANDO FUNÇÕES\n",
    "\n",
    "def open_file(fileName):\n",
    "    encoding = input('Insira encoding do arquivo(ASCII, UTF-16, UTF-8 ou ANSI): ')\n",
    "\n",
    "    try:\n",
    "        with open(fileName, 'r', encoding = encoding ) as file:\n",
    "            contents = file.read()\n",
    "            return contents\n",
    "    except FileNotFoundError:    \n",
    "        print('Arquivo não encontrado')  \n",
    "        return None\n",
    "\n",
    "    except Exception:\n",
    "        print('Ocorreu um erro ao abrir o arquivo:')\n",
    "        return None\n",
    "\n",
    "    except UnboundLocalError:\n",
    "        print('ERROR: Local não encontrado!')\n",
    "        return None    \n",
    "#--------------------------------------------------------\n",
    "arquivo = input('Digite o caminho completo do arquivo: ')\n",
    "conteudo = open_file(arquivo)\n",
    "\n",
    "#--------------------------------------------------------\n",
    "lista_dados = conteudo.splitlines()\n",
    "\n",
    "for i in range(0, len(lista_dados)):\n",
    "    lista_dados[i] = lista_dados[i].split(';')\n",
    "\n",
    "\n",
    "    \n",
    "\n",
    "\n",
    "\n",
    "\n",
    "\n",
    "\n",
    "\n",
    "#---------------------------------------------Criar um documento e registrar\n",
    "\n",
    "wb = opxl.Workbook()\n",
    "ws = wb.active\n",
    "\n",
    "for linha in lista_dados:\n",
    "    ws.append(linha)\n",
    "\n",
    "wb.save('excel.xlsx')  \n",
    "\n",
    "\n",
    "\n",
    "\n"
   ]
  },
  {
   "cell_type": "code",
   "execution_count": null,
   "metadata": {},
   "outputs": [],
   "source": []
  }
 ],
 "metadata": {
  "kernelspec": {
   "display_name": "Python 3",
   "language": "python",
   "name": "python3"
  },
  "language_info": {
   "codemirror_mode": {
    "name": "ipython",
    "version": 3
   },
   "file_extension": ".py",
   "mimetype": "text/x-python",
   "name": "python",
   "nbconvert_exporter": "python",
   "pygments_lexer": "ipython3",
   "version": "3.11.0"
  },
  "orig_nbformat": 4
 },
 "nbformat": 4,
 "nbformat_minor": 2
}
