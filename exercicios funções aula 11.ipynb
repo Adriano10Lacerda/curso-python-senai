{
 "cells": [
  {
   "cell_type": "markdown",
   "metadata": {},
   "source": [
    "Exercício 01. Faça uma função que recebe por parâmetro o raio de uma esfera e calcula o\n",
    "seu volume (v = 4/3.P .R³)."
   ]
  },
  {
   "cell_type": "code",
   "execution_count": null,
   "metadata": {},
   "outputs": [],
   "source": [
    "\n",
    "import numpy as np\n",
    "\n",
    "def volume_esfera(raio):\n",
    "    pi = np.pi\n",
    "    volume = 4/3 * pi * raio ** 3\n",
    "\n",
    "    return volume\n"
   ]
  },
  {
   "cell_type": "code",
   "execution_count": null,
   "metadata": {},
   "outputs": [],
   "source": [
    "volume_esfera(10)"
   ]
  },
  {
   "cell_type": "markdown",
   "metadata": {},
   "source": [
    "Exercício 02. Escreva um procedimento que recebe as 3 notas de um aluno por parâmetro\n",
    "e uma letra. Se a letra for A o procedimento calcula a média aritmética das notas do aluno,\n",
    "se for P, a sua média ponderada (pesos: 5, 3 e 2) e se for H, a sua média harmônica. A\n",
    "média calculada também deve retornar por parâmetro."
   ]
  },
  {
   "cell_type": "code",
   "execution_count": null,
   "metadata": {},
   "outputs": [],
   "source": [
    "def media_aritmetica(num1, num2, num3):\n",
    "    soma = num1 + num2 + num3\n",
    "    media = soma / 3 \n",
    "\n",
    "    return media\n",
    "\n",
    "def media_poderada (num1, num2, num3):\n",
    "    soma = num1 * 5 + num2 * 3 + num3 * 2\n",
    "    media = soma /10\n",
    "\n",
    "    return media\n",
    "\n",
    "def media_harmonica(num1, num2, num3):\n",
    "    qtdDeTermos = 3\n",
    "    soma = 1/num1 + 1/num2 + 1/num3\n",
    "\n",
    "    media = qtdDeTermos / soma\n",
    "\n",
    "    return media\n",
    "\n",
    "def media_final(num1, num2, num3, tipo):\n",
    "\n",
    "    if tipo.upper() == 'A':\n",
    "        return media_aritmetica(num1, num2, num3)\n",
    "    elif tipo.upper() =='P':\n",
    "        return media_poderada(num1, num2, num3)\n",
    "    elif tipo.upper() == 'H':\n",
    "        return media_harmonica(num1, num2, num3)\n",
    "    \n",
    "\n",
    "print('Resultado da função média final',media_final(10, 8, 5, 'h'))\n",
    "print('Resultado da função media aritimetica', media_aritmetica(10, 8, 5))\n",
    "print('Resultado da função média ponderada', media_poderada(10, 8, 5))\n",
    "print('Resultado da função média harmônica', media_harmonica(10, 8, 5))          "
   ]
  },
  {
   "cell_type": "markdown",
   "metadata": {},
   "source": [
    "Exercício 08. Faça um procedimento que recebe a idade de um nadador por parâmetro e\n",
    "retorna, também por parâmetro, a categoria desse nadador de acordo com a tabela abaixo:"
   ]
  },
  {
   "cell_type": "code",
   "execution_count": 38,
   "metadata": {},
   "outputs": [
    {
     "name": "stdout",
     "output_type": "stream",
     "text": [
      "A idade do nadador é: 14 e sua categoria é:  None\n"
     ]
    }
   ],
   "source": [
    "def categoria (idade):\n",
    "    idade = int(idade)\n",
    "\n",
    "    if idade >= 5 and idade <= 7:\n",
    "        cat = ('Infantil A')\n",
    "\n",
    "    elif idade >= 8 and idade <=10:\n",
    "        cat = ('Infantil B')\n",
    "\n",
    "    elif idade >=11 and idade <=13:\n",
    "        cat = ('Juvenil A')\n",
    "\n",
    "    elif idade >=14 and idade <=17:\n",
    "        cat = ('Juvenil B')\n",
    "\n",
    "    elif idade >= 18:\n",
    "        cat = ('Adulto')\n",
    "\n",
    "    else:\n",
    "        idade <= 4\n",
    "        \n",
    "\n",
    "str_idade = input('Digite uma idade: ')\n",
    "print(f'A idade do nadador é: {str_idade} e sua categoria é: ', categoria(str_idade))  \n",
    "    "
   ]
  }
 ],
 "metadata": {
  "kernelspec": {
   "display_name": "Python 3",
   "language": "python",
   "name": "python3"
  },
  "language_info": {
   "codemirror_mode": {
    "name": "ipython",
    "version": 3
   },
   "file_extension": ".py",
   "mimetype": "text/x-python",
   "name": "python",
   "nbconvert_exporter": "python",
   "pygments_lexer": "ipython3",
   "version": "3.11.0"
  },
  "orig_nbformat": 4
 },
 "nbformat": 4,
 "nbformat_minor": 2
}
